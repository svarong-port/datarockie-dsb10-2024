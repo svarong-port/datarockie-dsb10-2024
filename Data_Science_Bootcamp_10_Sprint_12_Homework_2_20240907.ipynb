{
  "nbformat": 4,
  "nbformat_minor": 0,
  "metadata": {
    "colab": {
      "provenance": []
    },
    "kernelspec": {
      "name": "python3",
      "display_name": "Python 3"
    },
    "language_info": {
      "name": "python"
    }
  },
  "cells": [
    {
      "cell_type": "markdown",
      "source": [
        "# Data Science Bootcamp 10\n",
        "## **Sprint 12 - Python**\n",
        "### **Homework - A Game of Rock-Paper-Scissors**"
      ],
      "metadata": {
        "id": "BKyBj6BerCAY"
      }
    },
    {
      "cell_type": "markdown",
      "source": [
        "**Steps**\n",
        "1. Define a function for scoring based on the user's and bot's hands\n",
        "2. Define a function for announcing a winner based on the final score\n",
        "3. Define a function to run the game: getting user's input and random a hand for the bot"
      ],
      "metadata": {
        "id": "bzSiNKTErmLc"
      }
    },
    {
      "cell_type": "code",
      "source": [
        "# Step 1 - Function for Scoring\n",
        "\n",
        "\n",
        "## define a function to score based on hands\n",
        "def judge(user_hand, bot_hand, user_score, bot_score):\n",
        "\n",
        "    ## convert user's input as into lower case\n",
        "    user_hand = user_hand.lower()\n",
        "\n",
        "    ## tie\n",
        "    if user_hand == bot_hand:\n",
        "        print(\"Tie.\")\n",
        "        print(f\"Your score: {str(user_score)}\")\n",
        "        print(f\"Bot's score: {str(bot_score)}\")\n",
        "\n",
        "    ## all cases of user winning\n",
        "    elif user_hand == \"rock\" and bot_hand == \"scissors\":\n",
        "        user_score = user_score + 1\n",
        "        print(\"You won this round!\")\n",
        "        print(f\"Your score: {str(user_score)}\")\n",
        "        print(f\"Bot's score: {str(bot_score)}\")\n",
        "\n",
        "    elif user_hand == \"scissors\" and bot_hand == \"paper\":\n",
        "        user_score = user_score + 1\n",
        "        print(\"You won this round!\")\n",
        "        print(f\"Your score: {str(user_score)}\")\n",
        "        print(f\"Bot's score: {str(bot_score)}\")\n",
        "\n",
        "    elif user_hand == \"paper\" and bot_hand == \"rock\":\n",
        "        user_score = user_score + 1\n",
        "        print(\"You won this round!\")\n",
        "        print(f\"Your score: {str(user_score)}\")\n",
        "        print(f\"Bot's score: {str(bot_score)}\")\n",
        "\n",
        "    ## other cases: lose\n",
        "    else:\n",
        "        bot_score = bot_score + 1\n",
        "        print(\"You lose this round.\")\n",
        "        print(f\"Your score: {str(user_score)}\")\n",
        "        print(f\"Bot's score: {str(bot_score)}\")\n",
        "\n",
        "    ## return updated scores\n",
        "    return user_score, bot_score\n",
        "\n",
        "\n",
        "## test the function\n",
        "judge(\"rock\", \"scissors\", 0, 0) # win\n",
        "print(\"---\")\n",
        "judge(\"scissors\", \"rock\", 0, 0) # lose\n",
        "print(\"---\")\n",
        "judge(\"rock\", \"rock\", 0, 0) # tie\n",
        "print(\"---\")\n",
        "\n",
        "## test the function for different text input formats\n",
        "judge(\"ROCK\", \"scissors\", 0, 0) # win"
      ],
      "metadata": {
        "colab": {
          "base_uri": "https://localhost:8080/"
        },
        "id": "VI0BSQ53sEhZ",
        "outputId": "2872bf13-8b0f-414b-9501-318d1a48193a"
      },
      "execution_count": null,
      "outputs": [
        {
          "output_type": "stream",
          "name": "stdout",
          "text": [
            "You won this round!\n",
            "Your score: 1\n",
            "Bot's score: 0\n",
            "---\n",
            "You lose this round.\n",
            "Your score: 0\n",
            "Bot's score: 1\n",
            "---\n",
            "Tie.\n",
            "Your score: 0\n",
            "Bot's score: 0\n",
            "---\n",
            "You won this round!\n",
            "Your score: 1\n",
            "Bot's score: 0\n"
          ]
        },
        {
          "output_type": "execute_result",
          "data": {
            "text/plain": [
              "(1, 0)"
            ]
          },
          "metadata": {},
          "execution_count": 14
        }
      ]
    },
    {
      "cell_type": "code",
      "source": [
        "# Step 2 - Function for announcing a winner\n",
        "\n",
        "\n",
        "## create a function to accounce a winner\n",
        "def winner(user_score, bot_score):\n",
        "\n",
        "    ## if draw\n",
        "    if user_score == bot_score:\n",
        "        print(\"It's a draw. You are a worthy opponent.\")\n",
        "        print(f\"Your score: {user_score}\")\n",
        "        print(f\"Bot's score: {bot_score}\")\n",
        "\n",
        "    ## if user is the winner\n",
        "    elif user_score > bot_score:\n",
        "        print(\"You won this game! Congratulations!\")\n",
        "        print(f\"Your score: {user_score}\")\n",
        "        print(f\"Bot's score: {bot_score}\")\n",
        "\n",
        "    ## if bot is the winner\n",
        "    else:\n",
        "        print(\"You lose this game. Better luck next time.\")\n",
        "        print(f\"Your score: {user_score}\")\n",
        "        print(f\"Bot's score: {bot_score}\")\n",
        "\n",
        "\n",
        "## test the function\n",
        "winner(1, 0) # user = won\n",
        "print(\"---\")\n",
        "winner(0, 1) # user = lose\n",
        "print(\"---\")\n",
        "winner(1, 1) # draw"
      ],
      "metadata": {
        "colab": {
          "base_uri": "https://localhost:8080/"
        },
        "id": "YKSIRQTavd5h",
        "outputId": "85b9a315-da87-44b6-b2e5-69c58df24fa0"
      },
      "execution_count": null,
      "outputs": [
        {
          "output_type": "stream",
          "name": "stdout",
          "text": [
            "You won this game! Congratulations!\n",
            "Your score: 1\n",
            "Bot's score: 0\n",
            "---\n",
            "You lose this game. Better luck next time.\n",
            "Your score: 0\n",
            "Bot's score: 1\n",
            "---\n",
            "It's a draw. You are a worthy opponent.\n",
            "Your score: 1\n",
            "Bot's score: 1\n"
          ]
        }
      ]
    },
    {
      "cell_type": "code",
      "source": [
        "# Step 3 - Function to run the game\n",
        "\n",
        "## import random\n",
        "import random\n",
        "\n",
        "\n",
        "## create a function to run the game\n",
        "def game():\n",
        "\n",
        "    ## set user's and bot's starting scores\n",
        "    user_score = 0\n",
        "    bot_score = 0\n",
        "\n",
        "    ## define hands\n",
        "    hands = ['rock', 'scissors', 'paper']\n",
        "    print(\"user score 1 | \" + str(user_score) )\n",
        "\n",
        "    ## welcome message\n",
        "    print(\"Welcome to the game of Rock-Paper-Scissors!\")\n",
        "\n",
        "    ## set the number of rounds\n",
        "    n_round = int(input(\"How many rounds do you want to play? (enter a number): \"))\n",
        "    print(\"#-----------------------------------------------------------\")\n",
        "    print(f\"We will play for {str(n_round)} round(s)\")\n",
        "\n",
        "    print(f\"Your score: {str(user_score)}\")\n",
        "    print(f\"Bot's score: {str(bot_score)}\")\n",
        "    print(\"#-----------------------------------------------------------\")\n",
        "\n",
        "    ## define starting round\n",
        "    r = 1\n",
        "\n",
        "    while r <= n_round:\n",
        "\n",
        "        ## run each round\n",
        "        print(\"Round: \" + str(r))\n",
        "        user_hand = input(\"Choose your best hand (rock, scissors, paper): \")\n",
        "\n",
        "        ## validate input\n",
        "        while user_hand not in hands:\n",
        "            print(\"Invalid input. Please type 'rock,' 'scissors,' or 'paper'.\")\n",
        "            user_hand = input(\"Your hand: \")\n",
        "            print(\">>>\")\n",
        "\n",
        "        ## randomly select bot's hand\n",
        "        bot_hand = random.choice(hands)\n",
        "\n",
        "        ## judge and update scores\n",
        "        user_score, bot_score = judge(user_hand, bot_hand, user_score, bot_score)\n",
        "\n",
        "        ## update round\n",
        "        r += 1\n",
        "        print(\"#-----------------------------------------------------------\")\n",
        "\n",
        "    ## announce the winner\n",
        "    winner(user_score, bot_score)\n",
        "\n",
        "\n",
        "## run the game\n",
        "game()"
      ],
      "metadata": {
        "colab": {
          "base_uri": "https://localhost:8080/"
        },
        "id": "Ua2PjQx9wcKa",
        "outputId": "44bce12b-da5a-4a1c-e8ff-0840543b9359"
      },
      "execution_count": null,
      "outputs": [
        {
          "output_type": "stream",
          "name": "stdout",
          "text": [
            "user score 1 | 0\n",
            "Welcome to the game of Rock-Paper-Scissors!\n",
            "How many rounds do you want to play? (enter a number): 5\n",
            "#-----------------------------------------------------------\n",
            "We will play for 5 round(s)\n",
            "Your score: 0\n",
            "Bot's score: 0\n",
            "#-----------------------------------------------------------\n",
            "Round: 1\n",
            "Choose your best hand (rock, scissors, paper): roock\n",
            "Invalid input. Please type 'rock,' 'scissors,' or 'paper'.\n",
            "Your hand: rock\n",
            ">>>\n",
            "You won this round!\n",
            "Your score: 1\n",
            "Bot's score: 0\n",
            "#-----------------------------------------------------------\n",
            "Round: 2\n",
            "Choose your best hand (rock, scissors, paper): rock\n",
            "You lose this round.\n",
            "Your score: 1\n",
            "Bot's score: 1\n",
            "#-----------------------------------------------------------\n",
            "Round: 3\n",
            "Choose your best hand (rock, scissors, paper): paper\n",
            "You won this round!\n",
            "Your score: 2\n",
            "Bot's score: 1\n",
            "#-----------------------------------------------------------\n",
            "Round: 4\n",
            "Choose your best hand (rock, scissors, paper): scissors\n",
            "You won this round!\n",
            "Your score: 3\n",
            "Bot's score: 1\n",
            "#-----------------------------------------------------------\n",
            "Round: 5\n",
            "Choose your best hand (rock, scissors, paper): paper\n",
            "You lose this round.\n",
            "Your score: 3\n",
            "Bot's score: 2\n",
            "#-----------------------------------------------------------\n",
            "You won this game! Congratulations!\n",
            "Your score: 3\n",
            "Bot's score: 2\n"
          ]
        }
      ]
    }
  ]
}